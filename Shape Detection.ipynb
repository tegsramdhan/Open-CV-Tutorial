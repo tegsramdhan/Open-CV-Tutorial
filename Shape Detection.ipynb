{
 "cells": [
  {
   "cell_type": "code",
   "execution_count": 1,
   "id": "7136f84a",
   "metadata": {},
   "outputs": [],
   "source": [
    "import cv2\n",
    "import numpy as np"
   ]
  },
  {
   "cell_type": "code",
   "execution_count": 2,
   "id": "1188dd20",
   "metadata": {},
   "outputs": [],
   "source": [
    "img = cv2.imread(\"Image Input/Shape.jpg\")"
   ]
  },
  {
   "cell_type": "code",
   "execution_count": 3,
   "id": "b02a4d80",
   "metadata": {},
   "outputs": [],
   "source": [
    "#fungsi untuk stack gambar\n",
    "def stackImages(scale,imgArray):\n",
    "    rows = len(imgArray)\n",
    "    cols = len(imgArray[0])\n",
    "    rowsAvailable = isinstance(imgArray[0],list)\n",
    "    width = imgArray[0][0].shape[1]\n",
    "    height = imgArray[0][0].shape[0]\n",
    "    if rowsAvailable:\n",
    "        for x in range(0,rows):\n",
    "            for y in range(0, cols):\n",
    "                if imgArray[x][y].shape[:2] == imgArray[x][y].shape[:2]:\n",
    "                    imgArray[x][y] = cv2.resize(imgArray[x][y],(0,0),None,scale,scale)\n",
    "                else:\n",
    "                    imgArray[x][y] = cv2.resize(imgArray[x][y], (imgArray[0][0].shape[0]), None, scale, scale)\n",
    "                if len(imgArray[x][y].shape) == 2: imgArray[x][y] =cv2.cvtColor(imgArray[x][y],cv2.COLOR_GRAY2BGR)\n",
    "        imageBlank = np.zeros((height,width,3), np.uint8)\n",
    "        hor = [imageBlank]*rows\n",
    "        hor_con = [imageBlank]*rows\n",
    "        for x in range(0, rows):\n",
    "            hor[x] = np.hstack(imgArray[x])\n",
    "        ver = np.vstack(hor)\n",
    "    else:\n",
    "        for x in range(0, rows):\n",
    "            if imgArray[x].shape[:2] == imgArray[0].shape[:2]:\n",
    "                imgArray[x] = cv2.resize(imgArray[x],(0,0),None,scale,scale)\n",
    "            else:\n",
    "                imgArray[x] = cv2.resize(imgArray[x],(imgArray[0].shape[0],imgArray[0].shape[1]),None,scale,scale)\n",
    "            if len(imgArray[x].shape) == 2: imgArray[x] =cv2.cvtColor(imgArray[x],cv2.COLOR_GRAY2BGR)\n",
    "        hor = np.hstack(imgArray)\n",
    "        ver = hor\n",
    "    return ver"
   ]
  },
  {
   "cell_type": "code",
   "execution_count": 78,
   "id": "67bdc034",
   "metadata": {},
   "outputs": [],
   "source": [
    "def getContours(img):\n",
    "    countours, hierarchy = cv2.findContours(img, cv2.RETR_EXTERNAL, cv2.CHAIN_APPROX_NONE)\n",
    "    for cnt in countours:\n",
    "        area = cv2.contourArea(cnt)\n",
    "        if area > 500:\n",
    "            #cv2.drawContours(imgBlank, cnt, -1, (255,0,0),3)\n",
    "            peri = cv2.arcLength(cnt, True)\n",
    "            approx = cv2.approxPolyDP(cnt, 0.04*peri, True)\n",
    "            print(len(approx))\n",
    "            \n",
    "            x, y, w, h = cv2.boundingRect(approx)\n",
    "            \n",
    "            cv2.rectangle(imgBlank, (x-10,y-10), (x+w+10, y+h+10), (0,255,0), 1)\n",
    "            if len(approx) == 3 :\n",
    "                objectType = \"Triangle\"\n",
    "            elif len(approx) == 4:\n",
    "                aspectRatio = w/float(h)\n",
    "                print(aspectRatio)\n",
    "                if aspectRatio > 0.95 and aspectRatio <1.5 :\n",
    "                    objectType = \"Square\"\n",
    "                else:\n",
    "                    objectType = \"Rectangle\"\n",
    "            else:\n",
    "                objectType = \"Circle\"\n",
    "                \n",
    "            cv2.putText(imgBlank, objectType, (x , y), cv2.FONT_HERSHEY_COMPLEX, 0.5, (0,0,0), 2)"
   ]
  },
  {
   "cell_type": "code",
   "execution_count": 81,
   "id": "c08cfb52",
   "metadata": {},
   "outputs": [
    {
     "name": "stdout",
     "output_type": "stream",
     "text": [
      "4\n",
      "1.896551724137931\n",
      "6\n",
      "4\n",
      "1.162162162162162\n",
      "4\n",
      "1.896551724137931\n",
      "8\n",
      "4\n",
      "1.1944444444444444\n",
      "3\n",
      "6\n",
      "4\n",
      "1.8620689655172413\n",
      "4\n",
      "1.162162162162162\n",
      "4\n",
      "1.8333333333333333\n",
      "7\n",
      "3\n",
      "4\n",
      "1.131578947368421\n",
      "4\n",
      "1.9642857142857142\n",
      "7\n",
      "3\n",
      "4\n",
      "1.131578947368421\n"
     ]
    }
   ],
   "source": [
    "#Kernel sistem nya adalah mengganti value pixel dengan nilai pixel yang berada didekatnya\n",
    "#Contoh pada tahap ini adalah 7X7, maka pada umumnya melakukan sum perhitungan dari 7x7 pixel di sekitarnya dengan target\n",
    "#Pixel yang diganti adalah dipaling tengah(tidak bisa genap)\n",
    "#https://setosa.io/ev/image-kernels/\n",
    "imgGray = cv2.cvtColor(img, cv2.COLOR_BGR2GRAY)\n",
    "imgBlur = cv2.GaussianBlur(imgGray,(7,7), 1)\n",
    "imgCanny = cv2.Canny(imgBlur, 50,50)\n",
    "imgBlank = img.copy()\n",
    "(thresh, imgBlackWhite) = cv2.threshold(imgGray, 220, 255, cv2.THRESH_BINARY)\n",
    "\n",
    "getContours(imgCanny)\n",
    "\n",
    "imgStack = stackImages(1, ([img, imgBlur,imgCanny],\n",
    "                          [imgGray,imgBlank, imgBlackWhite]))"
   ]
  },
  {
   "cell_type": "code",
   "execution_count": 82,
   "id": "1c46392b",
   "metadata": {},
   "outputs": [
    {
     "data": {
      "text/plain": [
       "-1"
      ]
     },
     "execution_count": 82,
     "metadata": {},
     "output_type": "execute_result"
    }
   ],
   "source": [
    "cv2.imshow(\"output\", imgStack)\n",
    "cv2.waitKey(0)"
   ]
  }
 ],
 "metadata": {
  "kernelspec": {
   "display_name": "Python 3 (ipykernel)",
   "language": "python",
   "name": "python3"
  },
  "language_info": {
   "codemirror_mode": {
    "name": "ipython",
    "version": 3
   },
   "file_extension": ".py",
   "mimetype": "text/x-python",
   "name": "python",
   "nbconvert_exporter": "python",
   "pygments_lexer": "ipython3",
   "version": "3.9.12"
  }
 },
 "nbformat": 4,
 "nbformat_minor": 5
}
