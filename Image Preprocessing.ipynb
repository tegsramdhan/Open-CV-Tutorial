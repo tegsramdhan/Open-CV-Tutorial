{
 "cells": [
  {
   "cell_type": "code",
   "execution_count": 2,
   "id": "cee26fb2",
   "metadata": {},
   "outputs": [
    {
     "data": {
      "text/plain": [
       "-1"
      ]
     },
     "execution_count": 2,
     "metadata": {},
     "output_type": "execute_result"
    }
   ],
   "source": [
    "#set image color to Greyscale\n",
    "#import cv2\n",
    "import cv2\n",
    "\n",
    "img = cv2.imread(\"Image Input/Bojji.png\")\n",
    "\n",
    "img_greyscale = cv2.cvtColor(img, cv2.COLOR_BGR2GRAY)\n",
    "\n",
    "cv2.imshow(\"Output\", img_greyscale)\n",
    "cv2.waitKey(0)"
   ]
  },
  {
   "cell_type": "code",
   "execution_count": 20,
   "id": "40d300ef",
   "metadata": {},
   "outputs": [
    {
     "data": {
      "text/plain": [
       "-1"
      ]
     },
     "execution_count": 20,
     "metadata": {},
     "output_type": "execute_result"
    }
   ],
   "source": [
    "#set image color to Blur\n",
    "#import cv2\n",
    "import cv2\n",
    "\n",
    "img = cv2.imread(\"Image Input/Bojji.png\")\n",
    "\n",
    "img_blur = cv2.GaussianBlur(img, (33,33), 0)\n",
    "\n",
    "cv2.imshow(\"Output\", img_blur)\n",
    "cv2.waitKey(0)"
   ]
  },
  {
   "cell_type": "code",
   "execution_count": 8,
   "id": "cd498674",
   "metadata": {},
   "outputs": [
    {
     "data": {
      "text/plain": [
       "-1"
      ]
     },
     "execution_count": 8,
     "metadata": {},
     "output_type": "execute_result"
    }
   ],
   "source": [
    "#set image color to Canny\n",
    "#import cv2\n",
    "import cv2\n",
    "\n",
    "img = cv2.imread(\"Image Input/030731.jpg\")\n",
    "\n",
    "\n",
    "img_canny = cv2.Canny(img, 200,200)\n",
    "\n",
    "img_not = cv2.bitwise_not(img_canny)\n",
    "\n",
    "cv2.imshow(\"Output1\", img)\n",
    "cv2.imshow(\"Output\", img_canny)\n",
    "cv2.imshow(\"Output2\", img_not)\n",
    "cv2.waitKey(0)"
   ]
  },
  {
   "cell_type": "code",
   "execution_count": 9,
   "id": "5c850edf",
   "metadata": {},
   "outputs": [
    {
     "data": {
      "text/plain": [
       "-1"
      ]
     },
     "execution_count": 9,
     "metadata": {},
     "output_type": "execute_result"
    }
   ],
   "source": [
    "#set image color to Canny with dialtion(Tebalin garis edge)\n",
    "#import cv2\n",
    "import cv2\n",
    "import numpy as np\n",
    "\n",
    "#Kernel for value of thickness\n",
    "kernel = np.ones((5,5), np.uint8)\n",
    "\n",
    "img = cv2.imread(\"Image Input/030731.jpg\")\n",
    "\n",
    "img_canny = cv2.Canny(img, 150,200)\n",
    "#iteration for thickness adding loop, erode untuk kebalikan dari tebal(kurusin)\n",
    "img_dialation = cv2.dilate(img_canny, kernel, iterations=1)\n",
    "\n",
    "cv2.imshow(\"Output\", img_dialation)\n",
    "cv2.waitKey(0)"
   ]
  }
 ],
 "metadata": {
  "kernelspec": {
   "display_name": "Python 3 (ipykernel)",
   "language": "python",
   "name": "python3"
  },
  "language_info": {
   "codemirror_mode": {
    "name": "ipython",
    "version": 3
   },
   "file_extension": ".py",
   "mimetype": "text/x-python",
   "name": "python",
   "nbconvert_exporter": "python",
   "pygments_lexer": "ipython3",
   "version": "3.9.12"
  }
 },
 "nbformat": 4,
 "nbformat_minor": 5
}
