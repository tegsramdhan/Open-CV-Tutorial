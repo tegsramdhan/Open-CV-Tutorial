{
 "cells": [
  {
   "cell_type": "code",
   "execution_count": 29,
   "id": "ec6bf884",
   "metadata": {},
   "outputs": [
    {
     "data": {
      "text/plain": [
       "-1"
      ]
     },
     "execution_count": 29,
     "metadata": {},
     "output_type": "execute_result"
    }
   ],
   "source": [
    "import cv2\n",
    "import numpy as np\n",
    "\n",
    "img = np.zeros((512,512,3), np.uint8)\n",
    "\n",
    "#Param(source, start coor(x,y), end coor, color, thickness)\n",
    "\n",
    "#green\n",
    "cv2.line(img, (30,100), (200,200), (0,255,0),3)\n",
    "\n",
    "#red\n",
    "cv2.line(img, (0,0), (img.shape[0],img.shape[1]), (0,0,255),3)\n",
    "\n",
    "#rectangle filled\n",
    "cv2.rectangle(img, (30,250), (100, 100), (255,0,0), 3)\n",
    "cv2.rectangle(img, (400,200), (500, 300), (255,0,0), cv2.FILLED)\n",
    "\n",
    "#circle(source, center, radius, color, thickness)\n",
    "cv2.circle(img, (400,450), 30 , (255,0,0), 3)\n",
    "cv2.circle(img, (200,450), 30 , (255,0,0), cv2.FILLED)\n",
    "\n",
    "#text\n",
    "cv2.putText(img, \"Lorem Ipsum\", (370,80), cv2.FONT_HERSHEY_PLAIN, 1, (0,255,0), 1)\n",
    "\n",
    "cv2.imshow(\"output\", img)\n",
    "cv2.waitKey(0)"
   ]
  }
 ],
 "metadata": {
  "kernelspec": {
   "display_name": "Python 3 (ipykernel)",
   "language": "python",
   "name": "python3"
  },
  "language_info": {
   "codemirror_mode": {
    "name": "ipython",
    "version": 3
   },
   "file_extension": ".py",
   "mimetype": "text/x-python",
   "name": "python",
   "nbconvert_exporter": "python",
   "pygments_lexer": "ipython3",
   "version": "3.9.12"
  }
 },
 "nbformat": 4,
 "nbformat_minor": 5
}
