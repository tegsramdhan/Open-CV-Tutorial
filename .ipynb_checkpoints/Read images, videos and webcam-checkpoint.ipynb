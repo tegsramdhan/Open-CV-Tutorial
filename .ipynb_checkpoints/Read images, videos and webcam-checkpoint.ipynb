{
 "cells": [
  {
   "cell_type": "code",
   "execution_count": null,
   "id": "ed6efe78",
   "metadata": {},
   "outputs": [],
   "source": [
    "#Show Image\n",
    "import cv2\n",
    "\n",
    "img = cv2.imread(\"Image Input/Bojji.png\")\n",
    "\n",
    "#par 1 window name, par 2 readed image\n",
    "cv2.imshow(\"output\", img)\n",
    "\n",
    "#Need waitkey for window output duration 0 = infinity\n",
    "cv2.waitKey(0)"
   ]
  },
  {
   "cell_type": "code",
   "execution_count": 1,
   "id": "cbb7fcdb",
   "metadata": {},
   "outputs": [],
   "source": [
    "#show Video\n",
    "import cv2\n",
    "\n",
    "#set 0 to webcam, file set to normal path\n",
    "vid = cv2.VideoCapture(0)\n",
    "\n",
    "#Set video properties, check documentation for IDs details set(IDs, Value)\n",
    "vid.set(3, 1920)\n",
    "vid.set(4, 1080)\n",
    "\n",
    "while True:\n",
    "    success, img = vid.read()\n",
    "    cv2.imshow(\"Video\", img)\n",
    "    if cv2.waitKey(3) & 0xFF ==ord('q'):\n",
    "        break"
   ]
  },
  {
   "cell_type": "code",
   "execution_count": null,
   "id": "58c1099a",
   "metadata": {},
   "outputs": [],
   "source": []
  }
 ],
 "metadata": {
  "kernelspec": {
   "display_name": "Python 3 (ipykernel)",
   "language": "python",
   "name": "python3"
  },
  "language_info": {
   "codemirror_mode": {
    "name": "ipython",
    "version": 3
   },
   "file_extension": ".py",
   "mimetype": "text/x-python",
   "name": "python",
   "nbconvert_exporter": "python",
   "pygments_lexer": "ipython3",
   "version": "3.9.12"
  }
 },
 "nbformat": 4,
 "nbformat_minor": 5
}
