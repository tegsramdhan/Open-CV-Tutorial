{
 "cells": [
  {
   "cell_type": "code",
   "execution_count": 12,
   "id": "0cb37c79",
   "metadata": {},
   "outputs": [
    {
     "name": "stdout",
     "output_type": "stream",
     "text": [
      "(485, 552, 3)\n"
     ]
    },
    {
     "data": {
      "text/plain": [
       "-1"
      ]
     },
     "execution_count": 12,
     "metadata": {},
     "output_type": "execute_result"
    }
   ],
   "source": [
    "#Resizing image\n",
    "import cv2\n",
    "\n",
    "img = cv2.imread(\"Image Input/Bojji.png\")\n",
    "#original image size\n",
    "print(img.shape)\n",
    "img_resize = cv2.resize(img, (200,220))\n",
    "\n",
    "cv2.imshow(\"Output\", img_resize)\n",
    "cv2.imshow(\"Output2\", img)\n",
    "cv2.waitKey(0)"
   ]
  },
  {
   "cell_type": "code",
   "execution_count": 1,
   "id": "7cc52dd3",
   "metadata": {},
   "outputs": [
    {
     "data": {
      "text/plain": [
       "-1"
      ]
     },
     "execution_count": 1,
     "metadata": {},
     "output_type": "execute_result"
    }
   ],
   "source": [
    "#Cropping image\n",
    "import cv2\n",
    "\n",
    "img = cv2.imread(\"Image Input/Bojji.png\")\n",
    "img_cropped = img[200:450, 300:500]\n",
    "\n",
    "cv2.imshow(\"Output\", img_cropped)\n",
    "cv2.imshow(\"Output2\", img)\n",
    "cv2.waitKey(0)"
   ]
  }
 ],
 "metadata": {
  "kernelspec": {
   "display_name": "Python 3 (ipykernel)",
   "language": "python",
   "name": "python3"
  },
  "language_info": {
   "codemirror_mode": {
    "name": "ipython",
    "version": 3
   },
   "file_extension": ".py",
   "mimetype": "text/x-python",
   "name": "python",
   "nbconvert_exporter": "python",
   "pygments_lexer": "ipython3",
   "version": "3.9.12"
  }
 },
 "nbformat": 4,
 "nbformat_minor": 5
}
