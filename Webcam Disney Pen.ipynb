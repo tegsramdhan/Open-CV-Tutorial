{
 "cells": [
  {
   "cell_type": "code",
   "execution_count": 1,
   "id": "bcc5e805",
   "metadata": {},
   "outputs": [
    {
     "data": {
      "text/plain": [
       "True"
      ]
     },
     "execution_count": 1,
     "metadata": {},
     "output_type": "execute_result"
    }
   ],
   "source": [
    "#show Video\n",
    "import cv2\n",
    "\n",
    "#set 0 to webcam, file set to normal path\n",
    "vid = cv2.VideoCapture(0)\n",
    "\n",
    "#Set video properties, check documentation for IDs details set(IDs, Value)\n",
    "vid.set(3, 1920)\n",
    "vid.set(4, 1080)"
   ]
  },
  {
   "cell_type": "code",
   "execution_count": null,
   "id": "3473bb0d",
   "metadata": {},
   "outputs": [],
   "source": [
    "def findColor(img):\n",
    "    imgHSV = cv2.cvtColor(img, cv2.COLOR_BGR2HSV)\n",
    "    lower = np.array([h_min,s_min,v_min])\n",
    "    upper = np.array([h_max,s_max,v_max])\n",
    "    mask = cv2.inRange(imgHSV, lower, upper)\n",
    "    cv2.imshow(\"mask\", mask)"
   ]
  },
  {
   "cell_type": "code",
   "execution_count": null,
   "id": "c2b0e56f",
   "metadata": {},
   "outputs": [],
   "source": [
    "while True:\n",
    "    success, img = vid.read()\n",
    "    cv2.imshow(\"Video\", img)\n",
    "    if cv2.waitKey(1) & 0xFF ==ord('q'):\n",
    "        break"
   ]
  }
 ],
 "metadata": {
  "kernelspec": {
   "display_name": "Python 3 (ipykernel)",
   "language": "python",
   "name": "python3"
  },
  "language_info": {
   "codemirror_mode": {
    "name": "ipython",
    "version": 3
   },
   "file_extension": ".py",
   "mimetype": "text/x-python",
   "name": "python",
   "nbconvert_exporter": "python",
   "pygments_lexer": "ipython3",
   "version": "3.9.12"
  }
 },
 "nbformat": 4,
 "nbformat_minor": 5
}
